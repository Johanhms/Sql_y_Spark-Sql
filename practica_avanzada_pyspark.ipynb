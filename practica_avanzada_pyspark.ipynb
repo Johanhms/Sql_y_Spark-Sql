{
  "nbformat": 4,
  "nbformat_minor": 0,
  "metadata": {
    "colab": {
      "provenance": [],
      "name": "practica_avanzada_pyspark.ipynb",
      "authorship_tag": "ABX9TyPJuyQARpHfvQOciWUqDlIy",
      "include_colab_link": true
    },
    "kernelspec": {
      "name": "python3",
      "display_name": "Python 3"
    },
    "language_info": {
      "name": "python"
    }
  },
  "cells": [
    {
      "cell_type": "markdown",
      "metadata": {
        "id": "view-in-github",
        "colab_type": "text"
      },
      "source": [
        "<a href=\"https://colab.research.google.com/github/Johanhms/Sql_y_Spark-Sql/blob/main/practica_avanzada_pyspark.ipynb\" target=\"_parent\"><img src=\"https://colab.research.google.com/assets/colab-badge.svg\" alt=\"Open In Colab\"/></a>"
      ]
    },
    {
      "cell_type": "code",
      "execution_count": null,
      "metadata": {
        "colab": {
          "base_uri": "https://localhost:8080/"
        },
        "id": "N3KU2LKv0u6t",
        "outputId": "40293755-2a6a-474a-b1ee-07508b81041b"
      },
      "outputs": [
        {
          "output_type": "stream",
          "name": "stdout",
          "text": [
            "Requirement already satisfied: pyspark==3.5.0 in /usr/local/lib/python3.12/dist-packages (3.5.0)\n",
            "Requirement already satisfied: py4j==0.10.9.7 in /usr/local/lib/python3.12/dist-packages (from pyspark==3.5.0) (0.10.9.7)\n"
          ]
        }
      ],
      "source": [
        "!pip install pyspark==3.5.0\n",
        "\n",
        "# Importar las bibliotecas necesarias\n",
        "import os\n",
        "from pyspark.sql import SparkSession\n",
        "\n",
        "# Establecer las variables de entorno\n",
        "os.environ[\"JAVA_HOME\"] = \"/usr/lib/jvm/java-11-openjdk-amd64\"\n",
        "os.environ[\"SPARK_HOME\"] = \"/usr/local/lib/python3.10/dist-packages/pyspark\""
      ]
    },
    {
      "cell_type": "code",
      "source": [
        "import seaborn as sns\n",
        "import pandas as pd\n",
        "from pyspark.sql import SparkSession\n",
        "spark = SparkSession.builder \\\n",
        "    .master(\"local[*]\") \\\n",
        "    .appName(\"LeerCSV\") \\\n",
        "    .getOrCreate()\n"
      ],
      "metadata": {
        "id": "stWnFNcN1VLQ"
      },
      "execution_count": null,
      "outputs": []
    },
    {
      "cell_type": "code",
      "source": [
        "df_products = spark.read.csv('/content/Products.csv', header = True, inferSchema = True)\n",
        "df_products.show(5)"
      ],
      "metadata": {
        "id": "hoawCtUo4AMy",
        "colab": {
          "base_uri": "https://localhost:8080/"
        },
        "outputId": "fac5818a-fbcf-4af4-f871-88fe6d81884d"
      },
      "execution_count": null,
      "outputs": [
        {
          "output_type": "stream",
          "name": "stdout",
          "text": [
            "+----------+-------------------+--------------------+-------------------+-------------+--------------------+\n",
            "|product_id|product_category_id|        product_name|product_description|product_price|       product_image|\n",
            "+----------+-------------------+--------------------+-------------------+-------------+--------------------+\n",
            "|         1|                  2|Quest Q64 10 FT. ...|               NULL|        59.98|http://images.acm...|\n",
            "|         2|                  2|Under Armour Men'...|               NULL|       129.99|http://images.acm...|\n",
            "|         3|                  2|Under Armour Men'...|               NULL|        89.99|http://images.acm...|\n",
            "|         4|                  2|Under Armour Men'...|               NULL|        89.99|http://images.acm...|\n",
            "|         5|                  2|Riddell Youth Rev...|               NULL|       199.99|http://images.acm...|\n",
            "+----------+-------------------+--------------------+-------------------+-------------+--------------------+\n",
            "only showing top 5 rows\n",
            "\n"
          ]
        }
      ]
    },
    {
      "cell_type": "code",
      "source": [
        "df_categories = spark.read.csv('/content/categories.csv', header = True, inferSchema = True)\n",
        "df_categories.show(5)"
      ],
      "metadata": {
        "colab": {
          "base_uri": "https://localhost:8080/"
        },
        "id": "pivzLzAXAVy8",
        "outputId": "e11812e2-c857-4239-9ce7-74cbbcfa32f0"
      },
      "execution_count": null,
      "outputs": [
        {
          "output_type": "stream",
          "name": "stdout",
          "text": [
            "+-----------+----------------------+-------------------+\n",
            "|category_id|category_department_id|      category_name|\n",
            "+-----------+----------------------+-------------------+\n",
            "|          1|                     2|           Football|\n",
            "|          2|                     2|             Soccer|\n",
            "|          3|                     2|Baseball & Softball|\n",
            "|          4|                     2|         Basketball|\n",
            "|          5|                     2|           Lacrosse|\n",
            "+-----------+----------------------+-------------------+\n",
            "only showing top 5 rows\n",
            "\n"
          ]
        }
      ]
    },
    {
      "cell_type": "code",
      "source": [
        "df_customer = spark.read.csv('/content/customers.csv', header = True, inferSchema = True)\n",
        "df_customer.show(5)"
      ],
      "metadata": {
        "colab": {
          "base_uri": "https://localhost:8080/"
        },
        "id": "cIL7XZSXCz3y",
        "outputId": "e31ed27a-07e7-42c9-ead2-6e23450fac28"
      },
      "execution_count": null,
      "outputs": [
        {
          "output_type": "stream",
          "name": "stdout",
          "text": [
            "+-----------+--------------+--------------+--------------+-----------------+--------------------+-------------+--------------+----------------+\n",
            "|customer_id|customer_fname|customer_lname|customer_email|customer_password|     customer_street|customer_city|customer_state|customer_zipcode|\n",
            "+-----------+--------------+--------------+--------------+-----------------+--------------------+-------------+--------------+----------------+\n",
            "|          1|       Richard|     Hernandez|     XXXXXXXXX|        XXXXXXXXX|  6303 Heather Plaza|  Brownsville|            TX|           78521|\n",
            "|          2|          Mary|       Barrett|     XXXXXXXXX|        XXXXXXXXX|9526 Noble Embers...|    Littleton|            CO|           80126|\n",
            "|          3|           Ann|         Smith|     XXXXXXXXX|        XXXXXXXXX|3422 Blue Pioneer...|       Caguas|            PR|             725|\n",
            "|          4|          Mary|         Jones|     XXXXXXXXX|        XXXXXXXXX|  8324 Little Common|   San Marcos|            CA|           92069|\n",
            "|          5|        Robert|        Hudson|     XXXXXXXXX|        XXXXXXXXX|10 Crystal River ...|       Caguas|            PR|             725|\n",
            "+-----------+--------------+--------------+--------------+-----------------+--------------------+-------------+--------------+----------------+\n",
            "only showing top 5 rows\n",
            "\n"
          ]
        }
      ]
    },
    {
      "cell_type": "code",
      "source": [
        "df_departments = spark.read.csv('/content/departments.csv', header = True, inferSchema = True)\n",
        "df_departments.show(5)"
      ],
      "metadata": {
        "colab": {
          "base_uri": "https://localhost:8080/"
        },
        "id": "uRr_y00iCZYx",
        "outputId": "cfb616eb-9f87-4ada-cafc-d41f9e7de8d4"
      },
      "execution_count": null,
      "outputs": [
        {
          "output_type": "stream",
          "name": "stdout",
          "text": [
            "+-------------+---------------+\n",
            "|department_id|department_name|\n",
            "+-------------+---------------+\n",
            "|            2|        Fitness|\n",
            "|            3|       Footwear|\n",
            "|            4|        Apparel|\n",
            "|            5|           Golf|\n",
            "|            6|       Outdoors|\n",
            "+-------------+---------------+\n",
            "only showing top 5 rows\n",
            "\n"
          ]
        }
      ]
    },
    {
      "cell_type": "code",
      "source": [
        "df_order_items = spark.read.csv('/content/order_items.csv', header = True, inferSchema = True)\n",
        "df_order_items.show(5)"
      ],
      "metadata": {
        "colab": {
          "base_uri": "https://localhost:8080/"
        },
        "id": "YELn3gjwC8LB",
        "outputId": "df6baa0f-9e43-4431-a6b7-0b2a12c4ea3d"
      },
      "execution_count": null,
      "outputs": [
        {
          "output_type": "stream",
          "name": "stdout",
          "text": [
            "+-------------+-------------------+---------------------+-------------------+-------------------+------------------------+\n",
            "|order_item_id|order_item_order_id|order_item_product_id|order_item_quantity|order_item_subtotal|order_item_product_price|\n",
            "+-------------+-------------------+---------------------+-------------------+-------------------+------------------------+\n",
            "|            1|                  1|                  957|                  1|             299.98|                  299.98|\n",
            "|            2|                  2|                 1073|                  1|             199.99|                  199.99|\n",
            "|            3|                  2|                  502|                  5|              250.0|                    50.0|\n",
            "|            4|                  2|                  403|                  1|             129.99|                  129.99|\n",
            "|            5|                  4|                  897|                  2|              49.98|                   24.99|\n",
            "+-------------+-------------------+---------------------+-------------------+-------------------+------------------------+\n",
            "only showing top 5 rows\n",
            "\n"
          ]
        }
      ]
    },
    {
      "cell_type": "code",
      "source": [
        "df_orders = spark.read.csv('/content/orders.csv', header = True, inferSchema = True)\n",
        "df_orders.show(5)"
      ],
      "metadata": {
        "colab": {
          "base_uri": "https://localhost:8080/"
        },
        "id": "LdQYJgYxC8Co",
        "outputId": "3e63d42d-ffa8-46c0-d82f-4e5da0e84318"
      },
      "execution_count": null,
      "outputs": [
        {
          "output_type": "stream",
          "name": "stdout",
          "text": [
            "+--------+-------------------+-----------------+---------------+\n",
            "|order_id|         order_date|order_customer_id|   order_status|\n",
            "+--------+-------------------+-----------------+---------------+\n",
            "|       1|2013-07-25 00:00:00|            11599|         CLOSED|\n",
            "|       2|2013-07-25 00:00:00|              256|PENDING_PAYMENT|\n",
            "|       3|2013-07-25 00:00:00|            12111|       COMPLETE|\n",
            "|       4|2013-07-25 00:00:00|             8827|         CLOSED|\n",
            "|       5|2013-07-25 00:00:00|            11318|       COMPLETE|\n",
            "+--------+-------------------+-----------------+---------------+\n",
            "only showing top 5 rows\n",
            "\n"
          ]
        }
      ]
    },
    {
      "cell_type": "code",
      "source": [
        "df_join = df_orders.join(df_customer, df_orders.order_customer_id == df_customer.customer_id)\n",
        "df_join.show(5)"
      ],
      "metadata": {
        "colab": {
          "base_uri": "https://localhost:8080/"
        },
        "id": "Vgy0yW7vJCPk",
        "outputId": "35d413af-340d-456f-835b-8fd06e5e68e4"
      },
      "execution_count": null,
      "outputs": [
        {
          "output_type": "stream",
          "name": "stdout",
          "text": [
            "+--------+-------------------+-----------------+---------------+-----------+--------------+--------------+--------------+-----------------+--------------------+-------------+--------------+----------------+\n",
            "|order_id|         order_date|order_customer_id|   order_status|customer_id|customer_fname|customer_lname|customer_email|customer_password|     customer_street|customer_city|customer_state|customer_zipcode|\n",
            "+--------+-------------------+-----------------+---------------+-----------+--------------+--------------+--------------+-----------------+--------------------+-------------+--------------+----------------+\n",
            "|       1|2013-07-25 00:00:00|            11599|         CLOSED|      11599|          Mary|        Malone|     XXXXXXXXX|        XXXXXXXXX|8708 Indian Horse...|      Hickory|            NC|           28601|\n",
            "|       2|2013-07-25 00:00:00|              256|PENDING_PAYMENT|        256|         David|     Rodriguez|     XXXXXXXXX|        XXXXXXXXX|7605 Tawny Horse ...|      Chicago|            IL|           60625|\n",
            "|       3|2013-07-25 00:00:00|            12111|       COMPLETE|      12111|         Amber|        Franco|     XXXXXXXXX|        XXXXXXXXX|8766 Clear Prairi...|   Santa Cruz|            CA|           95060|\n",
            "|       4|2013-07-25 00:00:00|             8827|         CLOSED|       8827|         Brian|        Wilson|     XXXXXXXXX|        XXXXXXXXX|   8396 High Corners|  San Antonio|            TX|           78240|\n",
            "|       5|2013-07-25 00:00:00|            11318|       COMPLETE|      11318|          Mary|         Henry|     XXXXXXXXX|        XXXXXXXXX|3047 Silent Ember...|       Caguas|            PR|             725|\n",
            "+--------+-------------------+-----------------+---------------+-----------+--------------+--------------+--------------+-----------------+--------------------+-------------+--------------+----------------+\n",
            "only showing top 5 rows\n",
            "\n"
          ]
        }
      ]
    },
    {
      "cell_type": "code",
      "source": [
        "# Realizar múltiples joins en una sola sentencia\n",
        "df_resultados = df_order_items.join(\n",
        "    df_orders,\n",
        "    df_order_items.order_item_order_id == df_orders.order_id,\n",
        "    \"left\"\n",
        ").join(\n",
        "    df_customer,\n",
        "    df_orders.order_customer_id == df_customer.customer_id,\n",
        "    \"left\"\n",
        ").join(\n",
        "    df_products,\n",
        "    df_order_items.order_item_product_id == df_products.product_id,\n",
        "    \"left\"\n",
        ").join(\n",
        "    df_categories,\n",
        "    df_products.product_category_id == df_categories.category_id,\n",
        "    \"left\"\n",
        ").join(\n",
        "    df_departments,\n",
        "    df_categories.category_department_id == df_departments.department_id,\n",
        "    \"left\"\n",
        ")\n",
        "\n",
        "# Seleccionar solo las columnas de interés para un resultado más limpio\n",
        "df_final = df_resultados.select(\n",
        "    \"order_id\",\n",
        "    \"order_status\",\n",
        "    \"customer_fname\",\n",
        "    \"customer_lname\",\n",
        "    \"product_name\",\n",
        "    \"product_price\",\n",
        "    \"order_item_quantity\",\n",
        "    \"order_item_subtotal\",\n",
        "    \"department_name\"\n",
        ")\n",
        "\n",
        "# Mostrar el resultado final\n",
        "print(\"Resultado de la unión de múltiples tablas:\")\n",
        "df_final.show(truncate=False)"
      ],
      "metadata": {
        "colab": {
          "base_uri": "https://localhost:8080/"
        },
        "id": "8Spup4UTJVpA",
        "outputId": "774b2d36-7a84-4061-800f-11e61913a157"
      },
      "execution_count": null,
      "outputs": [
        {
          "output_type": "stream",
          "name": "stdout",
          "text": [
            "Resultado de la unión de múltiples tablas:\n",
            "+--------+---------------+--------------+--------------+---------------------------------------------+-------------+-------------------+-------------------+---------------+\n",
            "|order_id|order_status   |customer_fname|customer_lname|product_name                                 |product_price|order_item_quantity|order_item_subtotal|department_name|\n",
            "+--------+---------------+--------------+--------------+---------------------------------------------+-------------+-------------------+-------------------+---------------+\n",
            "|1       |CLOSED         |Mary          |Malone        |Diamondback Women's Serene Classic Comfort Bi|299.98       |1                  |299.98             |Fan Shop       |\n",
            "|2       |PENDING_PAYMENT|David         |Rodriguez     |Pelican Sunstream 100 Kayak                  |199.99       |1                  |199.99             |Fan Shop       |\n",
            "|2       |PENDING_PAYMENT|David         |Rodriguez     |Nike Men's Dri-FIT Victory Golf Polo         |50.0         |5                  |250.0              |Golf           |\n",
            "|2       |PENDING_PAYMENT|David         |Rodriguez     |Nike Men's CJ Elite 2 TD Football Cleat      |129.99       |1                  |129.99             |Apparel        |\n",
            "|4       |CLOSED         |Brian         |Wilson        |Team Golf New England Patriots Putter Grip   |24.99        |2                  |49.98              |Outdoors       |\n",
            "|4       |CLOSED         |Brian         |Wilson        |Perfect Fitness Perfect Rip Deck             |59.99        |5                  |299.95             |Apparel        |\n",
            "|4       |CLOSED         |Brian         |Wilson        |Nike Men's Dri-FIT Victory Golf Polo         |50.0         |3                  |150.0              |Golf           |\n",
            "|4       |CLOSED         |Brian         |Wilson        |O'Brien Men's Neoprene Life Vest             |49.98        |4                  |199.92             |Fan Shop       |\n",
            "|5       |COMPLETE       |Mary          |Henry         |Diamondback Women's Serene Classic Comfort Bi|299.98       |1                  |299.98             |Fan Shop       |\n",
            "|5       |COMPLETE       |Mary          |Henry         |Perfect Fitness Perfect Rip Deck             |59.99        |5                  |299.95             |Apparel        |\n",
            "|5       |COMPLETE       |Mary          |Henry         |O'Brien Men's Neoprene Life Vest             |49.98        |2                  |99.96              |Fan Shop       |\n",
            "|5       |COMPLETE       |Mary          |Henry         |Diamondback Women's Serene Classic Comfort Bi|299.98       |1                  |299.98             |Fan Shop       |\n",
            "|5       |COMPLETE       |Mary          |Henry         |Nike Men's CJ Elite 2 TD Football Cleat      |129.99       |1                  |129.99             |Apparel        |\n",
            "|7       |COMPLETE       |Mary          |Smith         |Pelican Sunstream 100 Kayak                  |199.99       |1                  |199.99             |Fan Shop       |\n",
            "|7       |COMPLETE       |Mary          |Smith         |Diamondback Women's Serene Classic Comfort Bi|299.98       |1                  |299.98             |Fan Shop       |\n",
            "|7       |COMPLETE       |Mary          |Smith         |Glove It Imperial Golf Towel                 |15.99        |5                  |79.95              |Outdoors       |\n",
            "|8       |PROCESSING     |Mary          |Smith         |Perfect Fitness Perfect Rip Deck             |59.99        |3                  |179.97             |Apparel        |\n",
            "|8       |PROCESSING     |Mary          |Smith         |Perfect Fitness Perfect Rip Deck             |59.99        |5                  |299.95             |Apparel        |\n",
            "|8       |PROCESSING     |Mary          |Smith         |O'Brien Men's Neoprene Life Vest             |49.98        |4                  |199.92             |Fan Shop       |\n",
            "|8       |PROCESSING     |Mary          |Smith         |Nike Men's Dri-FIT Victory Golf Polo         |50.0         |1                  |50.0               |Golf           |\n",
            "+--------+---------------+--------------+--------------+---------------------------------------------+-------------+-------------------+-------------------+---------------+\n",
            "only showing top 20 rows\n",
            "\n"
          ]
        }
      ]
    },
    {
      "cell_type": "code",
      "source": [
        "from pyspark.sql.functions import *\n",
        "\n",
        "# 1. Agrupar por cliente y categoría, y sumar los subtotales de los pedidos\n",
        "df_ranking = df_resultados.groupBy(\"customer_fname\", \"customer_lname\", \"category_name\") \\\n",
        "    .agg(round(sum(\"order_item_subtotal\"),2).alias(\"total_comprado\"))\n",
        "\n",
        "# 2. Ordenar los resultados para crear el ranking\n",
        "# Ordenamos de forma descendente (desc) para ver a los clientes con el mayor gasto primero\n",
        "df_ranking_final = df_ranking.orderBy(desc(\"total_comprado\"))\n",
        "\n",
        "# 3. Mostrar el ranking final\n",
        "print(\"Ranking de clientes por gasto en cada categoría:\")\n",
        "df_ranking_final.show(truncate=False)"
      ],
      "metadata": {
        "colab": {
          "base_uri": "https://localhost:8080/"
        },
        "id": "WBMBwijDM0wC",
        "outputId": "825b86bb-c49c-4a24-ccc0-d219bf290cb6"
      },
      "execution_count": null,
      "outputs": [
        {
          "output_type": "stream",
          "name": "stdout",
          "text": [
            "Ranking de clientes por gasto en cada categoría:\n",
            "+--------------+--------------+--------------------+--------------+\n",
            "|customer_fname|customer_lname|category_name       |total_comprado|\n",
            "+--------------+--------------+--------------------+--------------+\n",
            "|Mary          |Smith         |Fishing             |827558.62     |\n",
            "|Mary          |Smith         |Cleats              |537270.44     |\n",
            "|Mary          |Smith         |Camping & Hiking    |502466.5      |\n",
            "|Mary          |Smith         |Cardio Equipment    |439366.5      |\n",
            "|Mary          |Smith         |Women's Apparel     |380150.0      |\n",
            "|Mary          |Smith         |Water Sports        |375781.21     |\n",
            "|Mary          |Smith         |Indoor/Outdoor Games|345411.78     |\n",
            "|Mary          |Smith         |Men's Footwear      |336544.11     |\n",
            "|Mary          |Smith         |Shop By Sport       |153042.92     |\n",
            "|Mary          |Smith         |Electronics         |53326.46      |\n",
            "|James         |Smith         |Fishing             |26398.68      |\n",
            "|Robert        |Smith         |Fishing             |25998.7       |\n",
            "|David         |Smith         |Fishing             |24798.76      |\n",
            "|John          |Smith         |Fishing             |24798.76      |\n",
            "|William       |Smith         |Fishing             |21198.94      |\n",
            "|Mary          |Smith         |Girls' Apparel      |18088.94      |\n",
            "|Robert        |Smith         |Cleats              |17277.12      |\n",
            "|Mary          |Smith         |Accessories         |16868.25      |\n",
            "|Andrew        |Smith         |Fishing             |16399.18      |\n",
            "|Michael       |Smith         |Fishing             |16399.18      |\n",
            "+--------------+--------------+--------------------+--------------+\n",
            "only showing top 20 rows\n",
            "\n"
          ]
        }
      ]
    },
    {
      "cell_type": "code",
      "source": [
        "from pyspark.sql.window import Window\n",
        "from pyspark.sql import functions as F\n",
        "\n",
        "# 1. Definir la ventana\n",
        "# Particionamos por cliente y categoría, y ordenamos por el subtotal del pedido\n",
        "# Esto crea una \"ventana\" única para cada cliente en cada categoría.\n",
        "window_spec = Window.partitionBy(\"customer_fname\", \"customer_lname\", \"category_name\") \\\n",
        "    .orderBy(F.desc(\"order_item_subtotal\")) # Use F.desc for ordering within the window\n",
        "\n",
        "# 2. Aplicar la función de suma acumulada (cumulative sum)\n",
        "# Calculamos el total acumulado de las compras dentro de cada partición\n",
        "df_ranking_con_acumulado = df_resultados.withColumn(\n",
        "    \"total_acumulado_por_categoria\",\n",
        "    F.round(F.sum(\"order_item_subtotal\").over(window_spec), 2) # Use F.sum and F.round\n",
        ")\n",
        "\n",
        "# 3. Mostrar el resultado\n",
        "# Seleccionamos las columnas relevant es para ver el efecto de la suma acumulada\n",
        "df_ranking_con_acumulado.select(\n",
        "    \"customer_fname\",\n",
        "    \"customer_lname\",\n",
        "    \"category_name\",\n",
        "    \"order_item_subtotal\",\n",
        "    \"total_acumulado_por_categoria\"\n",
        ").show()"
      ],
      "metadata": {
        "colab": {
          "base_uri": "https://localhost:8080/"
        },
        "id": "14ckK2baNra_",
        "outputId": "cb76b086-a430-49bf-cbf3-5732d03aa296"
      },
      "execution_count": null,
      "outputs": [
        {
          "output_type": "stream",
          "name": "stdout",
          "text": [
            "+--------------+--------------+----------------+-------------------+-----------------------------+\n",
            "|customer_fname|customer_lname|   category_name|order_item_subtotal|total_acumulado_por_categoria|\n",
            "+--------------+--------------+----------------+-------------------+-----------------------------+\n",
            "|         Aaron|        Berger|Camping & Hiking|             299.98|                       299.98|\n",
            "|         Aaron|        Berger|     Electronics|             159.95|                       159.95|\n",
            "|         Aaron|        Berger|    Water Sports|             199.99|                       399.98|\n",
            "|         Aaron|        Berger|    Water Sports|             199.99|                       399.98|\n",
            "|         Aaron|        Berger| Women's Apparel|              100.0|                        100.0|\n",
            "|         Aaron|         Boyle|  Men's Footwear|             129.99|                       129.99|\n",
            "|         Aaron|         Boyle|   Shop By Sport|              39.99|                        79.98|\n",
            "|         Aaron|         Boyle|   Shop By Sport|              39.99|                        79.98|\n",
            "|         Aaron|          Bush|         Fishing|             399.98|                       399.98|\n",
            "|         Aaron|       Calhoun|         Fishing|             399.98|                       399.98|\n",
            "|         Aaron|       Calhoun|   Shop By Sport|             159.96|                       159.96|\n",
            "|         Aaron|       Calhoun|    Water Sports|             199.99|                       199.99|\n",
            "|         Aaron|          Carr|Camping & Hiking|             299.98|                      1199.92|\n",
            "|         Aaron|          Carr|Camping & Hiking|             299.98|                      1199.92|\n",
            "|         Aaron|          Carr|Camping & Hiking|             299.98|                      1199.92|\n",
            "|         Aaron|          Carr|Camping & Hiking|             299.98|                      1199.92|\n",
            "|         Aaron|          Carr|Cardio Equipment|             299.97|                       299.97|\n",
            "|         Aaron|          Carr|Cardio Equipment|             199.98|                       499.95|\n",
            "|         Aaron|          Carr| Women's Apparel|              250.0|                        250.0|\n",
            "|         Aaron|          Carr| Women's Apparel|              200.0|                        450.0|\n",
            "+--------------+--------------+----------------+-------------------+-----------------------------+\n",
            "only showing top 20 rows\n",
            "\n"
          ]
        }
      ]
    },
    {
      "cell_type": "code",
      "source": [
        "# Agrupa por cliente y cuenta el número de pedidos\n",
        "df_clientes_leales = df_resultados.groupBy(\"customer_fname\", \"customer_lname\") \\\n",
        "    .agg(count(\"order_id\").alias(\"numero_de_pedidos\")) \\\n",
        "    .orderBy(\"numero_de_pedidos\", ascending=False)\n",
        "\n",
        "# Muestra el resultado\n",
        "print(\"Top 5 clientes por número de pedidos:\")\n",
        "df_clientes_leales.show(5)"
      ],
      "metadata": {
        "colab": {
          "base_uri": "https://localhost:8080/"
        },
        "id": "GNfW1dnKNqkO",
        "outputId": "623c230c-c624-4395-bc75-39d7e99fa601"
      },
      "execution_count": null,
      "outputs": [
        {
          "output_type": "stream",
          "name": "stdout",
          "text": [
            "Top 5 clientes por número de pedidos:\n",
            "+--------------+--------------+-----------------+\n",
            "|customer_fname|customer_lname|numero_de_pedidos|\n",
            "+--------------+--------------+-----------------+\n",
            "|          Mary|         Smith|            20600|\n",
            "|        Robert|         Smith|              635|\n",
            "|         James|         Smith|              604|\n",
            "|         David|         Smith|              589|\n",
            "|          John|         Smith|              542|\n",
            "+--------------+--------------+-----------------+\n",
            "only showing top 5 rows\n",
            "\n"
          ]
        }
      ]
    },
    {
      "cell_type": "code",
      "source": [
        "# Agrupa por producto y suma las cantidades vendidas\n",
        "df_productos_vendidos = df_resultados.groupBy(\"product_name\") \\\n",
        "    .agg(sum(\"order_item_quantity\").alias(\"total_unidades_vendidas\")) \\\n",
        "    .orderBy(desc(\"total_unidades_vendidas\"))\n",
        "\n",
        "# Muestra el resultado\n",
        "print(\"Top 5 productos más vendidos por unidades:\")\n",
        "df_productos_vendidos.show(5, False)"
      ],
      "metadata": {
        "colab": {
          "base_uri": "https://localhost:8080/"
        },
        "id": "24ExgB_SRTUX",
        "outputId": "9bff6245-eba4-40db-dec0-60781f9cf4f4"
      },
      "execution_count": null,
      "outputs": [
        {
          "output_type": "stream",
          "name": "stdout",
          "text": [
            "Top 5 productos más vendidos por unidades:\n",
            "+---------------------------------------------+-----------------------+\n",
            "|product_name                                 |total_unidades_vendidas|\n",
            "+---------------------------------------------+-----------------------+\n",
            "|Perfect Fitness Perfect Rip Deck             |63626                  |\n",
            "|Nike Men's Dri-FIT Victory Golf Polo         |54145                  |\n",
            "|O'Brien Men's Neoprene Life Vest             |50125                  |\n",
            "|Nike Men's Free 5.0+ Running Shoe            |31616                  |\n",
            "|Under Armour Girls' Toddler Spine Surge Runni|27262                  |\n",
            "+---------------------------------------------+-----------------------+\n",
            "only showing top 5 rows\n",
            "\n"
          ]
        }
      ]
    },
    {
      "cell_type": "code",
      "source": [
        "# Agrupa por categoría y calcula el precio promedio\n",
        "df_precio_promedio = df_resultados.groupBy(\"category_name\") \\\n",
        "    .agg(round(avg(\"product_price\"),2).alias(\"precio_promedio\")) \\\n",
        "    .orderBy(\"precio_promedio\", ascending=False)\n",
        "\n",
        "# Muestra el resultado\n",
        "print(\"Precio promedio de los productos por categoría:\")\n",
        "df_precio_promedio.show(truncate=False)"
      ],
      "metadata": {
        "colab": {
          "base_uri": "https://localhost:8080/"
        },
        "id": "ca25ZnTDRTOs",
        "outputId": "ce66ae78-34ec-4e1e-cb2a-ba36887d7fe2"
      },
      "execution_count": null,
      "outputs": [
        {
          "output_type": "stream",
          "name": "stdout",
          "text": [
            "Precio promedio de los productos por categoría:\n",
            "+--------------------+---------------+\n",
            "|category_name       |precio_promedio|\n",
            "+--------------------+---------------+\n",
            "|Fishing             |399.98         |\n",
            "|Camping & Hiking    |299.98         |\n",
            "|Water Sports        |199.99         |\n",
            "|Strength Training   |189.0          |\n",
            "|Golf Bags & Carts   |169.99         |\n",
            "|Kids' Golf Clubs    |149.09         |\n",
            "|Women's Golf Clubs  |135.61         |\n",
            "|Men's Footwear      |129.99         |\n",
            "|Men's Golf Clubs    |119.29         |\n",
            "|As Seen on  TV!     |99.99          |\n",
            "|Cardio Equipment    |97.93          |\n",
            "|Soccer              |92.49          |\n",
            "|Golf Shoes          |68.36          |\n",
            "|Cleats              |59.99          |\n",
            "|Boxing & MMA        |57.06          |\n",
            "|Baseball & Softball |50.56          |\n",
            "|Women's Apparel     |50.0           |\n",
            "|Indoor/Outdoor Games|49.98          |\n",
            "|Tennis & Racquet    |44.99          |\n",
            "|Girls' Apparel      |41.75          |\n",
            "+--------------------+---------------+\n",
            "only showing top 20 rows\n",
            "\n"
          ]
        }
      ]
    },
    {
      "cell_type": "code",
      "source": [
        "# 1. Crear las columnas de año y mes\n",
        "# El DataFrame df_resultados ya contiene la columna 'order_date'\n",
        "df_con_fecha = df_resultados.withColumn(\"order_year\", year(\"order_date\")) \\\n",
        "                          .withColumn(\"order_month\", month(\"order_date\"))\n",
        "\n",
        "# 2. Agrupar por cliente, año y mes y sumar el total\n",
        "df_ranking_por_mes = df_con_fecha.groupBy(\"order_year\", \"order_month\") \\\n",
        "                               .agg(round(sum(\"order_item_subtotal\"),2).alias(\"total_comprado_mes\"))\n",
        "\n",
        "# 3. Ordenar los resultados para el ranking\n",
        "# Primero ordenamos por año y mes, y luego por el total de compra de forma descendente\n",
        "df_ranking_final = df_ranking_por_mes.orderBy([\"order_year\", \"order_month\", desc(\"total_comprado_mes\")])\n",
        "\n",
        "# 4. Mostrar el ranking final\n",
        "print(\"Ranking por total de compras por mes y año:\")\n",
        "df_ranking_final.show(truncate=False)"
      ],
      "metadata": {
        "colab": {
          "base_uri": "https://localhost:8080/"
        },
        "id": "t35DxozuRTHH",
        "outputId": "684ac56c-f370-4417-d049-c271171f591c"
      },
      "execution_count": null,
      "outputs": [
        {
          "output_type": "stream",
          "name": "stdout",
          "text": [
            "Ranking de clientes por total de compras por mes y año:\n",
            "+----------+-----------+------------------+\n",
            "|order_year|order_month|total_comprado_mes|\n",
            "+----------+-----------+------------------+\n",
            "|2013      |7          |743384.16         |\n",
            "|2013      |8          |2748355.48        |\n",
            "|2013      |9          |2722031.54        |\n",
            "|2013      |10         |2175350.87        |\n",
            "|2013      |11         |2678177.07        |\n",
            "|2013      |12         |2462296.31        |\n",
            "|2014      |1          |2386257.84        |\n",
            "|2014      |2          |2328038.51        |\n",
            "|2014      |3          |2407473.45        |\n",
            "|2014      |4          |2309775.59        |\n",
            "|2014      |5          |2272067.67        |\n",
            "|2014      |6          |2147388.23        |\n",
            "|2014      |7          |1856264.32        |\n",
            "+----------+-----------+------------------+\n",
            "\n"
          ]
        }
      ]
    },
    {
      "cell_type": "code",
      "source": [
        "# 1. Agrupar las ventas por mes y año\n",
        "df_ventas_mensuales = df_resultados.groupBy(year(\"order_date\").alias(\"order_year\"),\n",
        "                                           month(\"order_date\").alias(\"order_month\")) \\\n",
        "                                   .agg(round(sum(\"order_item_subtotal\"),2).alias(\"total_comprado_mes\")) \\\n",
        "                                   .orderBy(\"order_year\", \"order_month\")\n",
        "\n",
        "# 2. Definir la ventana para la función lag\n",
        "# La ventana particiona los datos por año y mes para un ordenamiento cronológico\n",
        "window_spec = Window.orderBy(\"order_year\", \"order_month\")\n",
        "\n",
        "# 3. Aplicar lag para obtener el valor del mes anterior\n",
        "df_con_mes_anterior = df_ventas_mensuales.withColumn(\n",
        "    \"total_mes_anterior\",\n",
        "    lag(\"total_comprado_mes\", 1).over(window_spec)\n",
        ")\n",
        "\n",
        "# 4. Calcular el porcentaje de variación\n",
        "# Usamos col() para referenciar las columnas y manejar los valores nulos (cuando el mes_anterior es nulo)\n",
        "df_variacion_mensual = df_con_mes_anterior.withColumn(\n",
        "    \"variacion_porcentual\",\n",
        "    (round((col(\"total_comprado_mes\") - col(\"total_mes_anterior\")) / col(\"total_mes_anterior\") * 100,2))\n",
        ").withColumn(\"variacion_absoluta\",\n",
        "    (round((col(\"total_comprado_mes\") - col(\"total_mes_anterior\")),2)))\n",
        "\n",
        "# 5. Mostrar el resultado\n",
        "print(\"Variación porcentual mensual:\")\n",
        "df_variacion_mensual.show(truncate=False)"
      ],
      "metadata": {
        "colab": {
          "base_uri": "https://localhost:8080/"
        },
        "id": "STpGcQYYaUqg",
        "outputId": "7af63192-972a-4b8b-cada-fcc814a46bc9"
      },
      "execution_count": null,
      "outputs": [
        {
          "output_type": "stream",
          "name": "stdout",
          "text": [
            "Variación porcentual mensual:\n",
            "+----------+-----------+------------------+------------------+--------------------+------------------+\n",
            "|order_year|order_month|total_comprado_mes|total_mes_anterior|variacion_porcentual|variacion_absoluta|\n",
            "+----------+-----------+------------------+------------------+--------------------+------------------+\n",
            "|2013      |7          |743384.16         |NULL              |NULL                |NULL              |\n",
            "|2013      |8          |2748355.48        |743384.16         |269.71              |2004971.32        |\n",
            "|2013      |9          |2722031.54        |2748355.48        |-0.96               |-26323.94         |\n",
            "|2013      |10         |2175350.87        |2722031.54        |-20.08              |-546680.67        |\n",
            "|2013      |11         |2678177.07        |2175350.87        |23.11               |502826.2          |\n",
            "|2013      |12         |2462296.31        |2678177.07        |-8.06               |-215880.76        |\n",
            "|2014      |1          |2386257.84        |2462296.31        |-3.09               |-76038.47         |\n",
            "|2014      |2          |2328038.51        |2386257.84        |-2.44               |-58219.33         |\n",
            "|2014      |3          |2407473.45        |2328038.51        |3.41                |79434.94          |\n",
            "|2014      |4          |2309775.59        |2407473.45        |-4.06               |-97697.86         |\n",
            "|2014      |5          |2272067.67        |2309775.59        |-1.63               |-37707.92         |\n",
            "|2014      |6          |2147388.23        |2272067.67        |-5.49               |-124679.44        |\n",
            "|2014      |7          |1856264.32        |2147388.23        |-13.56              |-291123.91        |\n",
            "+----------+-----------+------------------+------------------+--------------------+------------------+\n",
            "\n"
          ]
        }
      ]
    },
    {
      "cell_type": "code",
      "source": [
        "# Usa 'when' para crear una columna que categoriza los pedidos\n",
        "df_pedidos_categorizados = df_resultados.withColumn(\n",
        "    \"estado_simple\",\n",
        "    when(df_resultados.order_status == \"COMPLETE\", \"Completado\")\n",
        "    .when(df_resultados.order_status == \"PENDING\", \"Pendiente\")\n",
        "    .otherwise(\"Otros\") # El 'otherwise' es como el 'else' y es una buena práctica\n",
        ")\n",
        "\n",
        "# Muestra los resultados para ver la nueva columna\n",
        "print(\"Pedidos categorizados:\")\n",
        "df_pedidos_categorizados.select(\"order_id\", \"order_status\", \"estado_simple\").show(10)"
      ],
      "metadata": {
        "id": "kxAHYmiiaUlF"
      },
      "execution_count": null,
      "outputs": []
    },
    {
      "cell_type": "code",
      "source": [
        "df_resultados.select(\"order_status\").distinct().show()"
      ],
      "metadata": {
        "colab": {
          "base_uri": "https://localhost:8080/"
        },
        "id": "TbKTSrydaUdo",
        "outputId": "afa948f3-3beb-491e-e0bc-cccf7ad8cb05"
      },
      "execution_count": null,
      "outputs": [
        {
          "output_type": "stream",
          "name": "stdout",
          "text": [
            "+---------------+\n",
            "|   order_status|\n",
            "+---------------+\n",
            "|PENDING_PAYMENT|\n",
            "|       COMPLETE|\n",
            "|        ON_HOLD|\n",
            "| PAYMENT_REVIEW|\n",
            "|     PROCESSING|\n",
            "|         CLOSED|\n",
            "|SUSPECTED_FRAUD|\n",
            "|        PENDING|\n",
            "|       CANCELED|\n",
            "+---------------+\n",
            "\n"
          ]
        }
      ]
    },
    {
      "cell_type": "code",
      "source": [
        "df_resultados.groupBy(year(\"order_date\").alias(\"order_year\"),month(\"order_date\").alias(\"order_month\"), 'order_status')\\\n",
        ".agg(round(sum('order_item_subtotal'),2).alias('total_comprado_por_estado'))\\\n",
        ".orderBy([\"order_year\", \"order_month\", desc(\"total_comprado_por_estado\")]).show(truncate=False)"
      ],
      "metadata": {
        "colab": {
          "base_uri": "https://localhost:8080/"
        },
        "id": "AmqPIFteg6Y-",
        "outputId": "d1bfa670-3b9e-4cf0-9f1b-aaf54a45f4f8"
      },
      "execution_count": null,
      "outputs": [
        {
          "output_type": "stream",
          "name": "stdout",
          "text": [
            "+----------+-----------+---------------+-------------------------+\n",
            "|order_year|order_month|order_status   |total_comprado_por_estado|\n",
            "+----------+-----------+---------------+-------------------------+\n",
            "|2013      |7          |COMPLETE       |250348.39                |\n",
            "|2013      |7          |PENDING_PAYMENT|167324.65                |\n",
            "|2013      |7          |PROCESSING     |94902.01                 |\n",
            "|2013      |7          |PENDING        |85266.17                 |\n",
            "|2013      |7          |CLOSED         |76417.51                 |\n",
            "|2013      |7          |ON_HOLD        |35964.82                 |\n",
            "|2013      |7          |SUSPECTED_FRAUD|15830.28                 |\n",
            "|2013      |7          |CANCELED       |9882.41                  |\n",
            "|2013      |7          |PAYMENT_REVIEW |7447.92                  |\n",
            "|2013      |8          |COMPLETE       |874680.22                |\n",
            "|2013      |8          |PENDING_PAYMENT|588128.22                |\n",
            "|2013      |8          |PROCESSING     |340073.52                |\n",
            "|2013      |8          |PENDING        |337681.72                |\n",
            "|2013      |8          |CLOSED         |305941.84                |\n",
            "|2013      |8          |ON_HOLD        |149786.05                |\n",
            "|2013      |8          |SUSPECTED_FRAUD|67594.37                 |\n",
            "|2013      |8          |CANCELED       |58772.78                 |\n",
            "|2013      |8          |PAYMENT_REVIEW |25696.76                 |\n",
            "|2013      |9          |COMPLETE       |901826.42                |\n",
            "|2013      |9          |PENDING_PAYMENT|595568.52                |\n",
            "+----------+-----------+---------------+-------------------------+\n",
            "only showing top 20 rows\n",
            "\n"
          ]
        }
      ]
    },
    {
      "cell_type": "code",
      "source": [
        "from pyspark.sql.functions import col, when, sum, round\n",
        "\n",
        "# Calcula el subtotal total por pedido y luego aplica la condición\n",
        "df_pedidos_totales = df_resultados.groupBy(\"order_id\") \\\n",
        "    .agg(round(sum(\"order_item_subtotal\"),2).alias(\"total_pedido\"))\n",
        "\n",
        "# Aplica la lógica del descuento\n",
        "df_con_descuento = df_pedidos_totales.withColumn(\n",
        "    \"monto_final\",\n",
        "    round(\n",
        "        when(col(\"total_pedido\") > 1000, col(\"total_pedido\") * 0.9)\n",
        "        .otherwise(col(\"total_pedido\")),2))\n",
        "\n",
        "# Muestra los resultados\n",
        "print(\"Monto final de los pedidos con descuento:\")\n",
        "df_con_descuento.show()"
      ],
      "metadata": {
        "colab": {
          "base_uri": "https://localhost:8080/"
        },
        "id": "bc5yQMIXhh3G",
        "outputId": "25710ee2-cc75-4340-da8e-50b14e1eda8b"
      },
      "execution_count": null,
      "outputs": [
        {
          "output_type": "stream",
          "name": "stdout",
          "text": [
            "Monto final de los pedidos con descuento:\n",
            "+--------+------------+-----------+\n",
            "|order_id|total_pedido|monto_final|\n",
            "+--------+------------+-----------+\n",
            "|     148|      479.99|     479.99|\n",
            "|     463|      829.92|     829.92|\n",
            "|     471|      169.98|     169.98|\n",
            "|     496|      441.95|     441.95|\n",
            "|    1088|      249.97|     249.97|\n",
            "|    1580|      299.95|     299.95|\n",
            "|    1591|      439.86|     439.86|\n",
            "|    1645|     1509.79|    1358.81|\n",
            "|    2366|      299.97|     299.97|\n",
            "|    2659|      724.91|     724.91|\n",
            "|    2866|      569.96|     569.96|\n",
            "|    3175|      209.97|     209.97|\n",
            "|    3749|      143.97|     143.97|\n",
            "|    3794|      299.95|     299.95|\n",
            "|    3918|      829.93|     829.93|\n",
            "|    3997|      579.95|     579.95|\n",
            "|    4101|      129.99|     129.99|\n",
            "|    4519|       79.98|      79.98|\n",
            "|    4818|      399.98|     399.98|\n",
            "|    4900|      179.97|     179.97|\n",
            "+--------+------------+-----------+\n",
            "only showing top 20 rows\n",
            "\n"
          ]
        }
      ]
    }
  ]
}